{
 "cells": [
  {
   "cell_type": "markdown",
   "id": "be5ce765",
   "metadata": {},
   "source": [
    "Kata 1:\n",
    "https://www.codewars.com/kata/563089b9b7be03472d00002b/train/python"
   ]
  },
  {
   "cell_type": "markdown",
   "id": "ad68fc79",
   "metadata": {},
   "source": [
    "# Solution Kata 1"
   ]
  },
  {
   "cell_type": "code",
   "execution_count": null,
   "id": "2e95699c",
   "metadata": {},
   "outputs": [],
   "source": [
    "class List:\n",
    "    def remove_(self, integer_list, values_list):\n",
    "        sol=[]\n",
    "        for i in integer_list:\n",
    "            if i not in values_list:\n",
    "                sol.append(i)\n",
    "                \n",
    "        return sol"
   ]
  },
  {
   "cell_type": "markdown",
   "id": "96b67ef6",
   "metadata": {},
   "source": [
    "Kata 2: https://www.codewars.com/kata/method-for-counting-total-occurence-of-specific-digits"
   ]
  },
  {
   "cell_type": "markdown",
   "id": "3b49df95",
   "metadata": {},
   "source": [
    "# Solution Kata 2"
   ]
  },
  {
   "cell_type": "code",
   "execution_count": null,
   "id": "af2bc497",
   "metadata": {},
   "outputs": [],
   "source": [
    "class List(object):\n",
    "    def count_spec_digits(self, integers_list, digits_list):\n",
    "        lst = []\n",
    "        \n",
    "        for digit in digits_list:\n",
    "            count = 0\n",
    "            for number in integers_list:\n",
    "                count=count+ str(number).count(str(digit))\n",
    "            lst.append((digit, count))\n",
    "        \n",
    "        return lst"
   ]
  },
  {
   "cell_type": "markdown",
   "id": "af54ac16",
   "metadata": {},
   "source": [
    "Kata 3: https://www.codewars.com/kata/ordered-count-of-characters"
   ]
  },
  {
   "cell_type": "markdown",
   "id": "b2891244",
   "metadata": {},
   "source": [
    "# Solution Kata 3"
   ]
  },
  {
   "cell_type": "code",
   "execution_count": 35,
   "id": "c86f75fa",
   "metadata": {},
   "outputs": [
    {
     "data": {
      "text/plain": [
       "[2, 3, 4, 5, 6, 7, 8, 9, 10, 11, 12]"
      ]
     },
     "execution_count": 35,
     "metadata": {},
     "output_type": "execute_result"
    }
   ],
   "source": [
    "inp='abracadabra'\n",
    "lst=[]\n",
    "for letra in inp:\n",
    "    lst.append(letra)\n",
    "value=1  \n",
    "lst\n",
    "lst2=[]\n",
    "for letra in lst:\n",
    "    if letra in lst:\n",
    "        value=value+1\n",
    "    else:\n",
    "        value=1\n",
    "    lst2.append(value)\n",
    "lst2      "
   ]
  },
  {
   "cell_type": "code",
   "execution_count": 1,
   "id": "4ac47d13",
   "metadata": {},
   "outputs": [
    {
     "data": {
      "text/plain": [
       "[5, 2, 2, 5, 1, 5, 1, 5, 2, 2, 5]"
      ]
     },
     "execution_count": 1,
     "metadata": {},
     "output_type": "execute_result"
    }
   ],
   "source": [
    "inp='abracadabra'\n",
    "lst=[]\n",
    "for letra in inp:\n",
    "    lst.append(letra)\n",
    "\n",
    "lst2=[]\n",
    "for letra in lst:\n",
    "    count=lst.count(letra)\n",
    "    lst2.append(count)\n",
    "lst2      "
   ]
  },
  {
   "cell_type": "code",
   "execution_count": null,
   "id": "d705fd8e",
   "metadata": {},
   "outputs": [],
   "source": [
    "def ordered_count(inp):\n",
    "    character_count={}\n",
    "    lst= []\n",
    "    \n",
    "    for character in inp:\n",
    "        if character in character_count:\n",
    "            character_count[character]=character_count[character]+1\n",
    "        else:\n",
    "            character_count[character]=1\n",
    "            lst.append(character)\n",
    "    result =[(character, character_count[character]) for character in lst]  "
   ]
  }
 ],
 "metadata": {
  "kernelspec": {
   "display_name": "Python 3 (ipykernel)",
   "language": "python",
   "name": "python3"
  },
  "language_info": {
   "codemirror_mode": {
    "name": "ipython",
    "version": 3
   },
   "file_extension": ".py",
   "mimetype": "text/x-python",
   "name": "python",
   "nbconvert_exporter": "python",
   "pygments_lexer": "ipython3",
   "version": "3.11.5"
  }
 },
 "nbformat": 4,
 "nbformat_minor": 5
}
